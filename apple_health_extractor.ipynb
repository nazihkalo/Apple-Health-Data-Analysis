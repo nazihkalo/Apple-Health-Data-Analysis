{
 "cells": [
  {
   "cell_type": "markdown",
   "metadata": {},
   "source": [
    "# Apple Health Extractor"
   ]
  },
  {
   "cell_type": "markdown",
   "metadata": {},
   "source": [
    "This code will parse your Apple Health export data, create multiple CSV and do some simple data checks and data analysis. \n",
    "\n",
    "Enjoy! "
   ]
  },
  {
   "cell_type": "markdown",
   "metadata": {},
   "source": [
    "--------"
   ]
  },
  {
   "cell_type": "markdown",
   "metadata": {},
   "source": [
    "## Extract Data and Export to CSVs from Apple Health's Export.xml"
   ]
  },
  {
   "cell_type": "markdown",
   "metadata": {},
   "source": [
    "* Command Line Tool to Process apple health's export.xml file \n",
    "* Create multiple CSV files for each data type. \n",
    "* Original Source: https://github.com/tdda/applehealthdata\n",
    "* Based on the size of your Apple Health Data, this script may take several minutes to complete.\n",
    "\n",
    "**NOTE: Currently there are a few minror errors based on additional data from Apple Health that require some updates.** "
   ]
  },
  {
   "cell_type": "markdown",
   "metadata": {},
   "source": [
    "## Setup and Usage NOTE\n",
    "\n",
    "* Export your data from Apple Health App on your phone. \n",
    "* Unzip export.zip into this directory and rename to data. \n",
    "* Inside your directory there should be a directory and file here: /data/export.xml\n",
    "* Run inside project or in the command line."
   ]
  },
  {
   "cell_type": "code",
   "execution_count": 1,
   "metadata": {},
   "outputs": [
    {
     "data": {
      "text/plain": [
       "'/Users/nazihkalo/Desktop/UChicago_Analytics/Personal Projects/Health Data'"
      ]
     },
     "execution_count": 1,
     "metadata": {},
     "output_type": "execute_result"
    }
   ],
   "source": [
    "pwd"
   ]
  },
  {
   "cell_type": "code",
   "execution_count": 2,
   "metadata": {},
   "outputs": [
    {
     "name": "stdout",
     "output_type": "stream",
     "text": [
      "Reading data from apple_health_export/export.xml . . . done\n"
     ]
    },
    {
     "name": "stderr",
     "output_type": "stream",
     "text": [
      "apple-health-data-parser.py:136: DeprecationWarning: This method will be removed in future versions.  Use 'list(elem)' or iteration over elem instead.\n",
      "  self.nodes = self.root.getchildren()\n"
     ]
    },
    {
     "name": "stdout",
     "output_type": "stream",
     "text": [
      "Unexpected node of type ExportDate.\n",
      "\n",
      "Tags:\n",
      "ActivitySummary: 682\n",
      "ExportDate: 1\n",
      "Me: 1\n",
      "Record: 3321786\n",
      "Workout: 557\n",
      "\n",
      "Fields:\n",
      "HKCharacteristicTypeIdentifierBiologicalSex: 1\n",
      "HKCharacteristicTypeIdentifierBloodType: 1\n",
      "HKCharacteristicTypeIdentifierDateOfBirth: 1\n",
      "HKCharacteristicTypeIdentifierFitzpatrickSkinType: 1\n",
      "activeEnergyBurned: 682\n",
      "activeEnergyBurnedGoal: 682\n",
      "activeEnergyBurnedUnit: 682\n",
      "appleExerciseTime: 682\n",
      "appleExerciseTimeGoal: 682\n",
      "appleStandHours: 682\n",
      "appleStandHoursGoal: 682\n",
      "creationDate: 3322343\n",
      "dateComponents: 682\n",
      "device: 3095676\n",
      "duration: 557\n",
      "durationUnit: 557\n",
      "endDate: 3322343\n",
      "sourceName: 3322343\n",
      "sourceVersion: 3097121\n",
      "startDate: 3322343\n",
      "totalDistance: 557\n",
      "totalDistanceUnit: 557\n",
      "totalEnergyBurned: 557\n",
      "totalEnergyBurnedUnit: 557\n",
      "type: 3321786\n",
      "unit: 3307928\n",
      "value: 3321176\n",
      "workoutActivityType: 557\n",
      "\n",
      "Record types:\n",
      "ActiveEnergyBurned: 1305742\n",
      "AppleExerciseTime: 60420\n",
      "AppleStandHour: 13177\n",
      "BasalEnergyBurned: 873065\n",
      "BodyMass: 2\n",
      "DistanceSwimming: 51\n",
      "DistanceWalkingRunning: 300864\n",
      "FlightsClimbed: 24499\n",
      "HeartRate: 470303\n",
      "HeartRateVariabilitySDNN: 1647\n",
      "Height: 1\n",
      "HighHeartRateEvent: 37\n",
      "LowHeartRateEvent: 531\n",
      "MindfulSession: 43\n",
      "RestingHeartRate: 674\n",
      "SleepAnalysis: 70\n",
      "StepCount: 270090\n",
      "SwimmingStrokeCount: 51\n",
      "VO2Max: 11\n",
      "WaistCircumference: 1\n",
      "WalkingHeartRateAverage: 507\n",
      "\n",
      "Opening /Users/nazihkalo/Desktop/UChicago_Analytics/Personal Projects/Health Data/apple_health_export/Height.csv for writing\n",
      "Opening /Users/nazihkalo/Desktop/UChicago_Analytics/Personal Projects/Health Data/apple_health_export/BodyMass.csv for writing\n",
      "Opening /Users/nazihkalo/Desktop/UChicago_Analytics/Personal Projects/Health Data/apple_health_export/HeartRate.csv for writing\n",
      "Opening /Users/nazihkalo/Desktop/UChicago_Analytics/Personal Projects/Health Data/apple_health_export/StepCount.csv for writing\n",
      "Opening /Users/nazihkalo/Desktop/UChicago_Analytics/Personal Projects/Health Data/apple_health_export/DistanceWalkingRunning.csv for writing\n",
      "Opening /Users/nazihkalo/Desktop/UChicago_Analytics/Personal Projects/Health Data/apple_health_export/BasalEnergyBurned.csv for writing\n",
      "Opening /Users/nazihkalo/Desktop/UChicago_Analytics/Personal Projects/Health Data/apple_health_export/ActiveEnergyBurned.csv for writing\n",
      "Opening /Users/nazihkalo/Desktop/UChicago_Analytics/Personal Projects/Health Data/apple_health_export/FlightsClimbed.csv for writing\n",
      "Opening /Users/nazihkalo/Desktop/UChicago_Analytics/Personal Projects/Health Data/apple_health_export/AppleExerciseTime.csv for writing\n",
      "Opening /Users/nazihkalo/Desktop/UChicago_Analytics/Personal Projects/Health Data/apple_health_export/DistanceSwimming.csv for writing\n",
      "Opening /Users/nazihkalo/Desktop/UChicago_Analytics/Personal Projects/Health Data/apple_health_export/SwimmingStrokeCount.csv for writing\n",
      "Opening /Users/nazihkalo/Desktop/UChicago_Analytics/Personal Projects/Health Data/apple_health_export/WaistCircumference.csv for writing\n",
      "Opening /Users/nazihkalo/Desktop/UChicago_Analytics/Personal Projects/Health Data/apple_health_export/RestingHeartRate.csv for writing\n",
      "Opening /Users/nazihkalo/Desktop/UChicago_Analytics/Personal Projects/Health Data/apple_health_export/VO2Max.csv for writing\n",
      "Opening /Users/nazihkalo/Desktop/UChicago_Analytics/Personal Projects/Health Data/apple_health_export/WalkingHeartRateAverage.csv for writing\n",
      "Opening /Users/nazihkalo/Desktop/UChicago_Analytics/Personal Projects/Health Data/apple_health_export/SleepAnalysis.csv for writing\n",
      "Opening /Users/nazihkalo/Desktop/UChicago_Analytics/Personal Projects/Health Data/apple_health_export/AppleStandHour.csv for writing\n",
      "Opening /Users/nazihkalo/Desktop/UChicago_Analytics/Personal Projects/Health Data/apple_health_export/MindfulSession.csv for writing\n",
      "Opening /Users/nazihkalo/Desktop/UChicago_Analytics/Personal Projects/Health Data/apple_health_export/HighHeartRateEvent.csv for writing\n",
      "Opening /Users/nazihkalo/Desktop/UChicago_Analytics/Personal Projects/Health Data/apple_health_export/LowHeartRateEvent.csv for writing\n",
      "Opening /Users/nazihkalo/Desktop/UChicago_Analytics/Personal Projects/Health Data/apple_health_export/HeartRateVariabilitySDNN.csv for writing\n",
      "Opening /Users/nazihkalo/Desktop/UChicago_Analytics/Personal Projects/Health Data/apple_health_export/Workout.csv for writing\n",
      "Opening /Users/nazihkalo/Desktop/UChicago_Analytics/Personal Projects/Health Data/apple_health_export/ActivitySummary.csv for writing\n",
      "Written Height data.\n",
      "Written BodyMass data.\n",
      "Written HeartRate data.\n",
      "Written StepCount data.\n",
      "Written DistanceWalkingRunning data.\n",
      "Written BasalEnergyBurned data.\n",
      "Written ActiveEnergyBurned data.\n",
      "Written FlightsClimbed data.\n",
      "Written AppleExerciseTime data.\n",
      "Written DistanceSwimming data.\n",
      "Written SwimmingStrokeCount data.\n",
      "Written WaistCircumference data.\n",
      "Written RestingHeartRate data.\n",
      "Written VO2Max data.\n",
      "Written WalkingHeartRateAverage data.\n",
      "Written SleepAnalysis data.\n",
      "Written AppleStandHour data.\n",
      "Written MindfulSession data.\n",
      "Written HighHeartRateEvent data.\n",
      "Written LowHeartRateEvent data.\n",
      "Written HeartRateVariabilitySDNN data.\n",
      "Written Workout data.\n",
      "Written ActivitySummary data.\n"
     ]
    }
   ],
   "source": [
    "# %run -i 'apple-health-data-parser' 'export.xml' \n",
    "%run -i 'apple-health-data-parser' 'apple_health_export/export.xml' "
   ]
  },
  {
   "cell_type": "markdown",
   "metadata": {},
   "source": [
    "-----"
   ]
  },
  {
   "cell_type": "markdown",
   "metadata": {},
   "source": [
    "# Apple Health Data Check and Simple Data Analysis"
   ]
  },
  {
   "cell_type": "code",
   "execution_count": 3,
   "metadata": {},
   "outputs": [],
   "source": [
    "import numpy as np\n",
    "import pandas as pd\n",
    "import glob"
   ]
  },
  {
   "cell_type": "markdown",
   "metadata": {},
   "source": [
    "----"
   ]
  },
  {
   "cell_type": "markdown",
   "metadata": {},
   "source": [
    "# Weight"
   ]
  },
  {
   "cell_type": "code",
   "execution_count": 4,
   "metadata": {},
   "outputs": [],
   "source": [
    "weight = pd.read_csv(\"apple_health_export/BodyMass.csv\")"
   ]
  },
  {
   "cell_type": "code",
   "execution_count": 5,
   "metadata": {},
   "outputs": [
    {
     "data": {
      "text/html": [
       "<div>\n",
       "<style scoped>\n",
       "    .dataframe tbody tr th:only-of-type {\n",
       "        vertical-align: middle;\n",
       "    }\n",
       "\n",
       "    .dataframe tbody tr th {\n",
       "        vertical-align: top;\n",
       "    }\n",
       "\n",
       "    .dataframe thead th {\n",
       "        text-align: right;\n",
       "    }\n",
       "</style>\n",
       "<table border=\"1\" class=\"dataframe\">\n",
       "  <thead>\n",
       "    <tr style=\"text-align: right;\">\n",
       "      <th></th>\n",
       "      <th>sourceName</th>\n",
       "      <th>sourceVersion</th>\n",
       "      <th>device</th>\n",
       "      <th>type</th>\n",
       "      <th>unit</th>\n",
       "      <th>creationDate</th>\n",
       "      <th>startDate</th>\n",
       "      <th>endDate</th>\n",
       "      <th>value</th>\n",
       "    </tr>\n",
       "  </thead>\n",
       "  <tbody>\n",
       "    <tr>\n",
       "      <th>0</th>\n",
       "      <td>Nazih's iPhone 7</td>\n",
       "      <td>11.0.3</td>\n",
       "      <td>NaN</td>\n",
       "      <td>BodyMass</td>\n",
       "      <td>lb</td>\n",
       "      <td>2017-10-29 00:49:41 +0300</td>\n",
       "      <td>2017-10-29 00:49:41 +0300</td>\n",
       "      <td>2017-10-29 00:49:41 +0300</td>\n",
       "      <td>146</td>\n",
       "    </tr>\n",
       "    <tr>\n",
       "      <th>1</th>\n",
       "      <td>Health</td>\n",
       "      <td>11.2.5</td>\n",
       "      <td>NaN</td>\n",
       "      <td>BodyMass</td>\n",
       "      <td>lb</td>\n",
       "      <td>2018-02-09 21:51:22 +0300</td>\n",
       "      <td>2018-02-09 21:51:22 +0300</td>\n",
       "      <td>2018-02-09 21:51:22 +0300</td>\n",
       "      <td>147</td>\n",
       "    </tr>\n",
       "  </tbody>\n",
       "</table>\n",
       "</div>"
      ],
      "text/plain": [
       "         sourceName sourceVersion  device      type unit  \\\n",
       "0  Nazih's iPhone 7        11.0.3     NaN  BodyMass   lb   \n",
       "1            Health        11.2.5     NaN  BodyMass   lb   \n",
       "\n",
       "                creationDate                  startDate  \\\n",
       "0  2017-10-29 00:49:41 +0300  2017-10-29 00:49:41 +0300   \n",
       "1  2018-02-09 21:51:22 +0300  2018-02-09 21:51:22 +0300   \n",
       "\n",
       "                     endDate  value  \n",
       "0  2017-10-29 00:49:41 +0300    146  \n",
       "1  2018-02-09 21:51:22 +0300    147  "
      ]
     },
     "execution_count": 5,
     "metadata": {},
     "output_type": "execute_result"
    }
   ],
   "source": [
    "weight.tail()"
   ]
  },
  {
   "cell_type": "code",
   "execution_count": 6,
   "metadata": {},
   "outputs": [
    {
     "data": {
      "text/html": [
       "<div>\n",
       "<style scoped>\n",
       "    .dataframe tbody tr th:only-of-type {\n",
       "        vertical-align: middle;\n",
       "    }\n",
       "\n",
       "    .dataframe tbody tr th {\n",
       "        vertical-align: top;\n",
       "    }\n",
       "\n",
       "    .dataframe thead th {\n",
       "        text-align: right;\n",
       "    }\n",
       "</style>\n",
       "<table border=\"1\" class=\"dataframe\">\n",
       "  <thead>\n",
       "    <tr style=\"text-align: right;\">\n",
       "      <th></th>\n",
       "      <th>device</th>\n",
       "      <th>value</th>\n",
       "    </tr>\n",
       "  </thead>\n",
       "  <tbody>\n",
       "    <tr>\n",
       "      <th>count</th>\n",
       "      <td>0.0</td>\n",
       "      <td>2.000000</td>\n",
       "    </tr>\n",
       "    <tr>\n",
       "      <th>mean</th>\n",
       "      <td>NaN</td>\n",
       "      <td>146.500000</td>\n",
       "    </tr>\n",
       "    <tr>\n",
       "      <th>std</th>\n",
       "      <td>NaN</td>\n",
       "      <td>0.707107</td>\n",
       "    </tr>\n",
       "    <tr>\n",
       "      <th>min</th>\n",
       "      <td>NaN</td>\n",
       "      <td>146.000000</td>\n",
       "    </tr>\n",
       "    <tr>\n",
       "      <th>25%</th>\n",
       "      <td>NaN</td>\n",
       "      <td>146.250000</td>\n",
       "    </tr>\n",
       "    <tr>\n",
       "      <th>50%</th>\n",
       "      <td>NaN</td>\n",
       "      <td>146.500000</td>\n",
       "    </tr>\n",
       "    <tr>\n",
       "      <th>75%</th>\n",
       "      <td>NaN</td>\n",
       "      <td>146.750000</td>\n",
       "    </tr>\n",
       "    <tr>\n",
       "      <th>max</th>\n",
       "      <td>NaN</td>\n",
       "      <td>147.000000</td>\n",
       "    </tr>\n",
       "  </tbody>\n",
       "</table>\n",
       "</div>"
      ],
      "text/plain": [
       "       device       value\n",
       "count     0.0    2.000000\n",
       "mean      NaN  146.500000\n",
       "std       NaN    0.707107\n",
       "min       NaN  146.000000\n",
       "25%       NaN  146.250000\n",
       "50%       NaN  146.500000\n",
       "75%       NaN  146.750000\n",
       "max       NaN  147.000000"
      ]
     },
     "execution_count": 6,
     "metadata": {},
     "output_type": "execute_result"
    }
   ],
   "source": [
    "weight.describe()"
   ]
  },
  {
   "cell_type": "markdown",
   "metadata": {},
   "source": [
    "----"
   ]
  },
  {
   "cell_type": "markdown",
   "metadata": {},
   "source": [
    "## Steps"
   ]
  },
  {
   "cell_type": "code",
   "execution_count": 7,
   "metadata": {},
   "outputs": [
    {
     "name": "stderr",
     "output_type": "stream",
     "text": [
      "/anaconda3/lib/python3.7/site-packages/IPython/core/interactiveshell.py:3057: DtypeWarning: Columns (1) have mixed types. Specify dtype option on import or set low_memory=False.\n",
      "  interactivity=interactivity, compiler=compiler, result=result)\n"
     ]
    }
   ],
   "source": [
    "steps = pd.read_csv(\"apple_health_export/StepCount.csv\")"
   ]
  },
  {
   "cell_type": "code",
   "execution_count": 8,
   "metadata": {},
   "outputs": [
    {
     "data": {
      "text/plain": [
       "270090"
      ]
     },
     "execution_count": 8,
     "metadata": {},
     "output_type": "execute_result"
    }
   ],
   "source": [
    "len(steps)"
   ]
  },
  {
   "cell_type": "code",
   "execution_count": 9,
   "metadata": {},
   "outputs": [
    {
     "data": {
      "text/plain": [
       "Index(['sourceName', 'sourceVersion', 'device', 'type', 'unit', 'creationDate',\n",
       "       'startDate', 'endDate', 'value'],\n",
       "      dtype='object')"
      ]
     },
     "execution_count": 9,
     "metadata": {},
     "output_type": "execute_result"
    }
   ],
   "source": [
    "steps.columns"
   ]
  },
  {
   "cell_type": "code",
   "execution_count": 10,
   "metadata": {},
   "outputs": [
    {
     "data": {
      "text/html": [
       "<div>\n",
       "<style scoped>\n",
       "    .dataframe tbody tr th:only-of-type {\n",
       "        vertical-align: middle;\n",
       "    }\n",
       "\n",
       "    .dataframe tbody tr th {\n",
       "        vertical-align: top;\n",
       "    }\n",
       "\n",
       "    .dataframe thead th {\n",
       "        text-align: right;\n",
       "    }\n",
       "</style>\n",
       "<table border=\"1\" class=\"dataframe\">\n",
       "  <thead>\n",
       "    <tr style=\"text-align: right;\">\n",
       "      <th></th>\n",
       "      <th>value</th>\n",
       "    </tr>\n",
       "  </thead>\n",
       "  <tbody>\n",
       "    <tr>\n",
       "      <th>count</th>\n",
       "      <td>270090.000000</td>\n",
       "    </tr>\n",
       "    <tr>\n",
       "      <th>mean</th>\n",
       "      <td>82.704291</td>\n",
       "    </tr>\n",
       "    <tr>\n",
       "      <th>std</th>\n",
       "      <td>294.872520</td>\n",
       "    </tr>\n",
       "    <tr>\n",
       "      <th>min</th>\n",
       "      <td>1.000000</td>\n",
       "    </tr>\n",
       "    <tr>\n",
       "      <th>25%</th>\n",
       "      <td>7.000000</td>\n",
       "    </tr>\n",
       "    <tr>\n",
       "      <th>50%</th>\n",
       "      <td>20.000000</td>\n",
       "    </tr>\n",
       "    <tr>\n",
       "      <th>75%</th>\n",
       "      <td>81.000000</td>\n",
       "    </tr>\n",
       "    <tr>\n",
       "      <th>max</th>\n",
       "      <td>53866.000000</td>\n",
       "    </tr>\n",
       "  </tbody>\n",
       "</table>\n",
       "</div>"
      ],
      "text/plain": [
       "               value\n",
       "count  270090.000000\n",
       "mean       82.704291\n",
       "std       294.872520\n",
       "min         1.000000\n",
       "25%         7.000000\n",
       "50%        20.000000\n",
       "75%        81.000000\n",
       "max     53866.000000"
      ]
     },
     "execution_count": 10,
     "metadata": {},
     "output_type": "execute_result"
    }
   ],
   "source": [
    "steps.describe()"
   ]
  },
  {
   "cell_type": "code",
   "execution_count": 11,
   "metadata": {},
   "outputs": [
    {
     "data": {
      "text/html": [
       "<div>\n",
       "<style scoped>\n",
       "    .dataframe tbody tr th:only-of-type {\n",
       "        vertical-align: middle;\n",
       "    }\n",
       "\n",
       "    .dataframe tbody tr th {\n",
       "        vertical-align: top;\n",
       "    }\n",
       "\n",
       "    .dataframe thead th {\n",
       "        text-align: right;\n",
       "    }\n",
       "</style>\n",
       "<table border=\"1\" class=\"dataframe\">\n",
       "  <thead>\n",
       "    <tr style=\"text-align: right;\">\n",
       "      <th></th>\n",
       "      <th>sourceName</th>\n",
       "      <th>sourceVersion</th>\n",
       "      <th>device</th>\n",
       "      <th>type</th>\n",
       "      <th>unit</th>\n",
       "      <th>creationDate</th>\n",
       "      <th>startDate</th>\n",
       "      <th>endDate</th>\n",
       "      <th>value</th>\n",
       "    </tr>\n",
       "  </thead>\n",
       "  <tbody>\n",
       "    <tr>\n",
       "      <th>270085</th>\n",
       "      <td>Nazih’s Apple Watch</td>\n",
       "      <td>5.3</td>\n",
       "      <td>&lt;&lt;HKDevice: 0x2839f35c0&gt;, name:Apple Watch, ma...</td>\n",
       "      <td>StepCount</td>\n",
       "      <td>count</td>\n",
       "      <td>2019-09-03 18:29:11 +0300</td>\n",
       "      <td>2019-09-03 18:14:17 +0300</td>\n",
       "      <td>2019-09-03 18:14:27 +0300</td>\n",
       "      <td>23</td>\n",
       "    </tr>\n",
       "    <tr>\n",
       "      <th>270086</th>\n",
       "      <td>Nazih’s Apple Watch</td>\n",
       "      <td>5.3</td>\n",
       "      <td>&lt;&lt;HKDevice: 0x2839f3660&gt;, name:Apple Watch, ma...</td>\n",
       "      <td>StepCount</td>\n",
       "      <td>count</td>\n",
       "      <td>2019-09-03 18:29:11 +0300</td>\n",
       "      <td>2019-09-03 18:23:22 +0300</td>\n",
       "      <td>2019-09-03 18:23:24 +0300</td>\n",
       "      <td>12</td>\n",
       "    </tr>\n",
       "    <tr>\n",
       "      <th>270087</th>\n",
       "      <td>Nazih’s Apple Watch</td>\n",
       "      <td>5.3</td>\n",
       "      <td>&lt;&lt;HKDevice: 0x2839f3700&gt;, name:Apple Watch, ma...</td>\n",
       "      <td>StepCount</td>\n",
       "      <td>count</td>\n",
       "      <td>2019-09-03 18:29:11 +0300</td>\n",
       "      <td>2019-09-03 18:26:36 +0300</td>\n",
       "      <td>2019-09-03 18:26:39 +0300</td>\n",
       "      <td>8</td>\n",
       "    </tr>\n",
       "    <tr>\n",
       "      <th>270088</th>\n",
       "      <td>Nazih’s Apple Watch</td>\n",
       "      <td>5.3</td>\n",
       "      <td>&lt;&lt;HKDevice: 0x2839f37a0&gt;, name:Apple Watch, ma...</td>\n",
       "      <td>StepCount</td>\n",
       "      <td>count</td>\n",
       "      <td>2019-09-03 18:49:41 +0300</td>\n",
       "      <td>2019-09-03 18:45:17 +0300</td>\n",
       "      <td>2019-09-03 18:45:22 +0300</td>\n",
       "      <td>13</td>\n",
       "    </tr>\n",
       "    <tr>\n",
       "      <th>270089</th>\n",
       "      <td>Nazih’s Apple Watch</td>\n",
       "      <td>5.3</td>\n",
       "      <td>&lt;&lt;HKDevice: 0x2839f3840&gt;, name:Apple Watch, ma...</td>\n",
       "      <td>StepCount</td>\n",
       "      <td>count</td>\n",
       "      <td>2019-09-03 18:49:41 +0300</td>\n",
       "      <td>2019-09-03 18:46:16 +0300</td>\n",
       "      <td>2019-09-03 18:46:44 +0300</td>\n",
       "      <td>27</td>\n",
       "    </tr>\n",
       "  </tbody>\n",
       "</table>\n",
       "</div>"
      ],
      "text/plain": [
       "                 sourceName sourceVersion  \\\n",
       "270085  Nazih’s Apple Watch           5.3   \n",
       "270086  Nazih’s Apple Watch           5.3   \n",
       "270087  Nazih’s Apple Watch           5.3   \n",
       "270088  Nazih’s Apple Watch           5.3   \n",
       "270089  Nazih’s Apple Watch           5.3   \n",
       "\n",
       "                                                   device       type   unit  \\\n",
       "270085  <<HKDevice: 0x2839f35c0>, name:Apple Watch, ma...  StepCount  count   \n",
       "270086  <<HKDevice: 0x2839f3660>, name:Apple Watch, ma...  StepCount  count   \n",
       "270087  <<HKDevice: 0x2839f3700>, name:Apple Watch, ma...  StepCount  count   \n",
       "270088  <<HKDevice: 0x2839f37a0>, name:Apple Watch, ma...  StepCount  count   \n",
       "270089  <<HKDevice: 0x2839f3840>, name:Apple Watch, ma...  StepCount  count   \n",
       "\n",
       "                     creationDate                  startDate  \\\n",
       "270085  2019-09-03 18:29:11 +0300  2019-09-03 18:14:17 +0300   \n",
       "270086  2019-09-03 18:29:11 +0300  2019-09-03 18:23:22 +0300   \n",
       "270087  2019-09-03 18:29:11 +0300  2019-09-03 18:26:36 +0300   \n",
       "270088  2019-09-03 18:49:41 +0300  2019-09-03 18:45:17 +0300   \n",
       "270089  2019-09-03 18:49:41 +0300  2019-09-03 18:46:16 +0300   \n",
       "\n",
       "                          endDate  value  \n",
       "270085  2019-09-03 18:14:27 +0300     23  \n",
       "270086  2019-09-03 18:23:24 +0300     12  \n",
       "270087  2019-09-03 18:26:39 +0300      8  \n",
       "270088  2019-09-03 18:45:22 +0300     13  \n",
       "270089  2019-09-03 18:46:44 +0300     27  "
      ]
     },
     "execution_count": 11,
     "metadata": {},
     "output_type": "execute_result"
    }
   ],
   "source": [
    "steps.tail()"
   ]
  },
  {
   "cell_type": "code",
   "execution_count": 12,
   "metadata": {},
   "outputs": [
    {
     "data": {
      "text/plain": [
       "22337602"
      ]
     },
     "execution_count": 12,
     "metadata": {},
     "output_type": "execute_result"
    }
   ],
   "source": [
    "# total all-time steps\n",
    "steps.value.sum()"
   ]
  },
  {
   "cell_type": "markdown",
   "metadata": {},
   "source": [
    "-------"
   ]
  },
  {
   "cell_type": "markdown",
   "metadata": {},
   "source": [
    "## Stand Count"
   ]
  },
  {
   "cell_type": "code",
   "execution_count": 13,
   "metadata": {},
   "outputs": [],
   "source": [
    "stand = pd.read_csv(\"apple_health_export/AppleStandHour.csv\")"
   ]
  },
  {
   "cell_type": "code",
   "execution_count": 14,
   "metadata": {},
   "outputs": [
    {
     "data": {
      "text/plain": [
       "13177"
      ]
     },
     "execution_count": 14,
     "metadata": {},
     "output_type": "execute_result"
    }
   ],
   "source": [
    "len(stand)"
   ]
  },
  {
   "cell_type": "code",
   "execution_count": 15,
   "metadata": {},
   "outputs": [
    {
     "data": {
      "text/plain": [
       "Index(['sourceName', 'sourceVersion', 'device', 'type', 'unit', 'creationDate',\n",
       "       'startDate', 'endDate', 'value'],\n",
       "      dtype='object')"
      ]
     },
     "execution_count": 15,
     "metadata": {},
     "output_type": "execute_result"
    }
   ],
   "source": [
    "stand.columns"
   ]
  },
  {
   "cell_type": "code",
   "execution_count": 16,
   "metadata": {},
   "outputs": [
    {
     "data": {
      "text/html": [
       "<div>\n",
       "<style scoped>\n",
       "    .dataframe tbody tr th:only-of-type {\n",
       "        vertical-align: middle;\n",
       "    }\n",
       "\n",
       "    .dataframe tbody tr th {\n",
       "        vertical-align: top;\n",
       "    }\n",
       "\n",
       "    .dataframe thead th {\n",
       "        text-align: right;\n",
       "    }\n",
       "</style>\n",
       "<table border=\"1\" class=\"dataframe\">\n",
       "  <thead>\n",
       "    <tr style=\"text-align: right;\">\n",
       "      <th></th>\n",
       "      <th>unit</th>\n",
       "    </tr>\n",
       "  </thead>\n",
       "  <tbody>\n",
       "    <tr>\n",
       "      <th>count</th>\n",
       "      <td>0.0</td>\n",
       "    </tr>\n",
       "    <tr>\n",
       "      <th>mean</th>\n",
       "      <td>NaN</td>\n",
       "    </tr>\n",
       "    <tr>\n",
       "      <th>std</th>\n",
       "      <td>NaN</td>\n",
       "    </tr>\n",
       "    <tr>\n",
       "      <th>min</th>\n",
       "      <td>NaN</td>\n",
       "    </tr>\n",
       "    <tr>\n",
       "      <th>25%</th>\n",
       "      <td>NaN</td>\n",
       "    </tr>\n",
       "    <tr>\n",
       "      <th>50%</th>\n",
       "      <td>NaN</td>\n",
       "    </tr>\n",
       "    <tr>\n",
       "      <th>75%</th>\n",
       "      <td>NaN</td>\n",
       "    </tr>\n",
       "    <tr>\n",
       "      <th>max</th>\n",
       "      <td>NaN</td>\n",
       "    </tr>\n",
       "  </tbody>\n",
       "</table>\n",
       "</div>"
      ],
      "text/plain": [
       "       unit\n",
       "count   0.0\n",
       "mean    NaN\n",
       "std     NaN\n",
       "min     NaN\n",
       "25%     NaN\n",
       "50%     NaN\n",
       "75%     NaN\n",
       "max     NaN"
      ]
     },
     "execution_count": 16,
     "metadata": {},
     "output_type": "execute_result"
    }
   ],
   "source": [
    "stand.describe()"
   ]
  },
  {
   "cell_type": "code",
   "execution_count": 17,
   "metadata": {},
   "outputs": [
    {
     "data": {
      "text/html": [
       "<div>\n",
       "<style scoped>\n",
       "    .dataframe tbody tr th:only-of-type {\n",
       "        vertical-align: middle;\n",
       "    }\n",
       "\n",
       "    .dataframe tbody tr th {\n",
       "        vertical-align: top;\n",
       "    }\n",
       "\n",
       "    .dataframe thead th {\n",
       "        text-align: right;\n",
       "    }\n",
       "</style>\n",
       "<table border=\"1\" class=\"dataframe\">\n",
       "  <thead>\n",
       "    <tr style=\"text-align: right;\">\n",
       "      <th></th>\n",
       "      <th>sourceName</th>\n",
       "      <th>sourceVersion</th>\n",
       "      <th>device</th>\n",
       "      <th>type</th>\n",
       "      <th>unit</th>\n",
       "      <th>creationDate</th>\n",
       "      <th>startDate</th>\n",
       "      <th>endDate</th>\n",
       "      <th>value</th>\n",
       "    </tr>\n",
       "  </thead>\n",
       "  <tbody>\n",
       "    <tr>\n",
       "      <th>13172</th>\n",
       "      <td>Nazih’s Apple Watch</td>\n",
       "      <td>5.3</td>\n",
       "      <td>&lt;&lt;HKDevice: 0x283bf4dc0&gt;, name:Apple Watch, ma...</td>\n",
       "      <td>AppleStandHour</td>\n",
       "      <td>NaN</td>\n",
       "      <td>2019-09-03 16:27:16 +0300</td>\n",
       "      <td>2019-09-03 14:00:00 +0300</td>\n",
       "      <td>2019-09-03 15:00:00 +0300</td>\n",
       "      <td>HKCategoryValueAppleStandHourIdle</td>\n",
       "    </tr>\n",
       "    <tr>\n",
       "      <th>13173</th>\n",
       "      <td>Nazih’s Apple Watch</td>\n",
       "      <td>5.3</td>\n",
       "      <td>&lt;&lt;HKDevice: 0x283bf4e60&gt;, name:Apple Watch, ma...</td>\n",
       "      <td>AppleStandHour</td>\n",
       "      <td>NaN</td>\n",
       "      <td>2019-09-03 16:27:16 +0300</td>\n",
       "      <td>2019-09-03 15:00:00 +0300</td>\n",
       "      <td>2019-09-03 16:00:00 +0300</td>\n",
       "      <td>HKCategoryValueAppleStandHourIdle</td>\n",
       "    </tr>\n",
       "    <tr>\n",
       "      <th>13174</th>\n",
       "      <td>Nazih’s Apple Watch</td>\n",
       "      <td>5.3</td>\n",
       "      <td>&lt;&lt;HKDevice: 0x283bf4f00&gt;, name:Apple Watch, ma...</td>\n",
       "      <td>AppleStandHour</td>\n",
       "      <td>NaN</td>\n",
       "      <td>2019-09-03 16:27:16 +0300</td>\n",
       "      <td>2019-09-03 16:00:00 +0300</td>\n",
       "      <td>2019-09-03 17:00:00 +0300</td>\n",
       "      <td>HKCategoryValueAppleStandHourStood</td>\n",
       "    </tr>\n",
       "    <tr>\n",
       "      <th>13175</th>\n",
       "      <td>Nazih’s Apple Watch</td>\n",
       "      <td>5.3</td>\n",
       "      <td>&lt;&lt;HKDevice: 0x283bf4fa0&gt;, name:Apple Watch, ma...</td>\n",
       "      <td>AppleStandHour</td>\n",
       "      <td>NaN</td>\n",
       "      <td>2019-09-03 17:59:59 +0300</td>\n",
       "      <td>2019-09-03 17:00:00 +0300</td>\n",
       "      <td>2019-09-03 18:00:00 +0300</td>\n",
       "      <td>HKCategoryValueAppleStandHourIdle</td>\n",
       "    </tr>\n",
       "    <tr>\n",
       "      <th>13176</th>\n",
       "      <td>Nazih’s Apple Watch</td>\n",
       "      <td>5.3</td>\n",
       "      <td>&lt;&lt;HKDevice: 0x283bf5040&gt;, name:Apple Watch, ma...</td>\n",
       "      <td>AppleStandHour</td>\n",
       "      <td>NaN</td>\n",
       "      <td>2019-09-03 18:09:04 +0300</td>\n",
       "      <td>2019-09-03 18:00:00 +0300</td>\n",
       "      <td>2019-09-03 19:00:00 +0300</td>\n",
       "      <td>HKCategoryValueAppleStandHourStood</td>\n",
       "    </tr>\n",
       "  </tbody>\n",
       "</table>\n",
       "</div>"
      ],
      "text/plain": [
       "                sourceName sourceVersion  \\\n",
       "13172  Nazih’s Apple Watch           5.3   \n",
       "13173  Nazih’s Apple Watch           5.3   \n",
       "13174  Nazih’s Apple Watch           5.3   \n",
       "13175  Nazih’s Apple Watch           5.3   \n",
       "13176  Nazih’s Apple Watch           5.3   \n",
       "\n",
       "                                                  device            type  \\\n",
       "13172  <<HKDevice: 0x283bf4dc0>, name:Apple Watch, ma...  AppleStandHour   \n",
       "13173  <<HKDevice: 0x283bf4e60>, name:Apple Watch, ma...  AppleStandHour   \n",
       "13174  <<HKDevice: 0x283bf4f00>, name:Apple Watch, ma...  AppleStandHour   \n",
       "13175  <<HKDevice: 0x283bf4fa0>, name:Apple Watch, ma...  AppleStandHour   \n",
       "13176  <<HKDevice: 0x283bf5040>, name:Apple Watch, ma...  AppleStandHour   \n",
       "\n",
       "       unit               creationDate                  startDate  \\\n",
       "13172   NaN  2019-09-03 16:27:16 +0300  2019-09-03 14:00:00 +0300   \n",
       "13173   NaN  2019-09-03 16:27:16 +0300  2019-09-03 15:00:00 +0300   \n",
       "13174   NaN  2019-09-03 16:27:16 +0300  2019-09-03 16:00:00 +0300   \n",
       "13175   NaN  2019-09-03 17:59:59 +0300  2019-09-03 17:00:00 +0300   \n",
       "13176   NaN  2019-09-03 18:09:04 +0300  2019-09-03 18:00:00 +0300   \n",
       "\n",
       "                         endDate                               value  \n",
       "13172  2019-09-03 15:00:00 +0300   HKCategoryValueAppleStandHourIdle  \n",
       "13173  2019-09-03 16:00:00 +0300   HKCategoryValueAppleStandHourIdle  \n",
       "13174  2019-09-03 17:00:00 +0300  HKCategoryValueAppleStandHourStood  \n",
       "13175  2019-09-03 18:00:00 +0300   HKCategoryValueAppleStandHourIdle  \n",
       "13176  2019-09-03 19:00:00 +0300  HKCategoryValueAppleStandHourStood  "
      ]
     },
     "execution_count": 17,
     "metadata": {},
     "output_type": "execute_result"
    }
   ],
   "source": [
    "stand.tail()"
   ]
  },
  {
   "cell_type": "markdown",
   "metadata": {},
   "source": [
    "------"
   ]
  },
  {
   "cell_type": "markdown",
   "metadata": {},
   "source": [
    "## Resting Heart Rate (HR)"
   ]
  },
  {
   "cell_type": "code",
   "execution_count": 44,
   "metadata": {},
   "outputs": [
    {
     "name": "stdout",
     "output_type": "stream",
     "text": [
      "[1, 2, 3, 4, 5, 6, 7, 8]\n"
     ]
    },
    {
     "data": {
      "text/plain": [
       "[0, 0, 2, -1, 2, 2, -1, -4]"
      ]
     },
     "execution_count": 44,
     "metadata": {},
     "output_type": "execute_result"
    }
   ],
   "source": [
    "q = [1,2, 5, 3, 7, 8, 6, 4]\n",
    "nums = list(range(1,len(q)+1))\n",
    "diff = [(q[i] - nums[i]) for i in range(len(q))]\n",
    "print(nums)\n",
    "diff"
   ]
  },
  {
   "cell_type": "code",
   "execution_count": 18,
   "metadata": {},
   "outputs": [],
   "source": [
    "restingHR = pd.read_csv(\"apple_health_export/RestingHeartRate.csv\")"
   ]
  },
  {
   "cell_type": "code",
   "execution_count": 19,
   "metadata": {},
   "outputs": [
    {
     "data": {
      "text/plain": [
       "674"
      ]
     },
     "execution_count": 19,
     "metadata": {},
     "output_type": "execute_result"
    }
   ],
   "source": [
    "len(restingHR)"
   ]
  },
  {
   "cell_type": "code",
   "execution_count": 20,
   "metadata": {},
   "outputs": [
    {
     "data": {
      "text/html": [
       "<div>\n",
       "<style scoped>\n",
       "    .dataframe tbody tr th:only-of-type {\n",
       "        vertical-align: middle;\n",
       "    }\n",
       "\n",
       "    .dataframe tbody tr th {\n",
       "        vertical-align: top;\n",
       "    }\n",
       "\n",
       "    .dataframe thead th {\n",
       "        text-align: right;\n",
       "    }\n",
       "</style>\n",
       "<table border=\"1\" class=\"dataframe\">\n",
       "  <thead>\n",
       "    <tr style=\"text-align: right;\">\n",
       "      <th></th>\n",
       "      <th>device</th>\n",
       "      <th>value</th>\n",
       "    </tr>\n",
       "  </thead>\n",
       "  <tbody>\n",
       "    <tr>\n",
       "      <th>count</th>\n",
       "      <td>0.0</td>\n",
       "      <td>674.000000</td>\n",
       "    </tr>\n",
       "    <tr>\n",
       "      <th>mean</th>\n",
       "      <td>NaN</td>\n",
       "      <td>42.169139</td>\n",
       "    </tr>\n",
       "    <tr>\n",
       "      <th>std</th>\n",
       "      <td>NaN</td>\n",
       "      <td>5.638532</td>\n",
       "    </tr>\n",
       "    <tr>\n",
       "      <th>min</th>\n",
       "      <td>NaN</td>\n",
       "      <td>32.000000</td>\n",
       "    </tr>\n",
       "    <tr>\n",
       "      <th>25%</th>\n",
       "      <td>NaN</td>\n",
       "      <td>39.000000</td>\n",
       "    </tr>\n",
       "    <tr>\n",
       "      <th>50%</th>\n",
       "      <td>NaN</td>\n",
       "      <td>41.000000</td>\n",
       "    </tr>\n",
       "    <tr>\n",
       "      <th>75%</th>\n",
       "      <td>NaN</td>\n",
       "      <td>44.000000</td>\n",
       "    </tr>\n",
       "    <tr>\n",
       "      <th>max</th>\n",
       "      <td>NaN</td>\n",
       "      <td>77.000000</td>\n",
       "    </tr>\n",
       "  </tbody>\n",
       "</table>\n",
       "</div>"
      ],
      "text/plain": [
       "       device       value\n",
       "count     0.0  674.000000\n",
       "mean      NaN   42.169139\n",
       "std       NaN    5.638532\n",
       "min       NaN   32.000000\n",
       "25%       NaN   39.000000\n",
       "50%       NaN   41.000000\n",
       "75%       NaN   44.000000\n",
       "max       NaN   77.000000"
      ]
     },
     "execution_count": 20,
     "metadata": {},
     "output_type": "execute_result"
    }
   ],
   "source": [
    "restingHR.describe()"
   ]
  },
  {
   "cell_type": "markdown",
   "metadata": {},
   "source": [
    "---"
   ]
  },
  {
   "cell_type": "markdown",
   "metadata": {},
   "source": [
    "## Walking Heart Rate (HR) Average"
   ]
  },
  {
   "cell_type": "code",
   "execution_count": 21,
   "metadata": {},
   "outputs": [],
   "source": [
    "walkingHR = pd.read_csv(\"apple_health_export/WalkingHeartRateAverage.csv\")"
   ]
  },
  {
   "cell_type": "code",
   "execution_count": 22,
   "metadata": {},
   "outputs": [
    {
     "data": {
      "text/plain": [
       "507"
      ]
     },
     "execution_count": 22,
     "metadata": {},
     "output_type": "execute_result"
    }
   ],
   "source": [
    "len(walkingHR)"
   ]
  },
  {
   "cell_type": "code",
   "execution_count": 23,
   "metadata": {},
   "outputs": [
    {
     "data": {
      "text/html": [
       "<div>\n",
       "<style scoped>\n",
       "    .dataframe tbody tr th:only-of-type {\n",
       "        vertical-align: middle;\n",
       "    }\n",
       "\n",
       "    .dataframe tbody tr th {\n",
       "        vertical-align: top;\n",
       "    }\n",
       "\n",
       "    .dataframe thead th {\n",
       "        text-align: right;\n",
       "    }\n",
       "</style>\n",
       "<table border=\"1\" class=\"dataframe\">\n",
       "  <thead>\n",
       "    <tr style=\"text-align: right;\">\n",
       "      <th></th>\n",
       "      <th>device</th>\n",
       "      <th>value</th>\n",
       "    </tr>\n",
       "  </thead>\n",
       "  <tbody>\n",
       "    <tr>\n",
       "      <th>count</th>\n",
       "      <td>0.0</td>\n",
       "      <td>507.000000</td>\n",
       "    </tr>\n",
       "    <tr>\n",
       "      <th>mean</th>\n",
       "      <td>NaN</td>\n",
       "      <td>90.619329</td>\n",
       "    </tr>\n",
       "    <tr>\n",
       "      <th>std</th>\n",
       "      <td>NaN</td>\n",
       "      <td>16.337264</td>\n",
       "    </tr>\n",
       "    <tr>\n",
       "      <th>min</th>\n",
       "      <td>NaN</td>\n",
       "      <td>46.000000</td>\n",
       "    </tr>\n",
       "    <tr>\n",
       "      <th>25%</th>\n",
       "      <td>NaN</td>\n",
       "      <td>80.000000</td>\n",
       "    </tr>\n",
       "    <tr>\n",
       "      <th>50%</th>\n",
       "      <td>NaN</td>\n",
       "      <td>89.000000</td>\n",
       "    </tr>\n",
       "    <tr>\n",
       "      <th>75%</th>\n",
       "      <td>NaN</td>\n",
       "      <td>101.000000</td>\n",
       "    </tr>\n",
       "    <tr>\n",
       "      <th>max</th>\n",
       "      <td>NaN</td>\n",
       "      <td>157.000000</td>\n",
       "    </tr>\n",
       "  </tbody>\n",
       "</table>\n",
       "</div>"
      ],
      "text/plain": [
       "       device       value\n",
       "count     0.0  507.000000\n",
       "mean      NaN   90.619329\n",
       "std       NaN   16.337264\n",
       "min       NaN   46.000000\n",
       "25%       NaN   80.000000\n",
       "50%       NaN   89.000000\n",
       "75%       NaN  101.000000\n",
       "max       NaN  157.000000"
      ]
     },
     "execution_count": 23,
     "metadata": {},
     "output_type": "execute_result"
    }
   ],
   "source": [
    "walkingHR.describe()"
   ]
  },
  {
   "cell_type": "markdown",
   "metadata": {},
   "source": [
    "---"
   ]
  },
  {
   "cell_type": "markdown",
   "metadata": {},
   "source": [
    "## Heart Rate Variability (HRV)"
   ]
  },
  {
   "cell_type": "code",
   "execution_count": 24,
   "metadata": {},
   "outputs": [],
   "source": [
    "hrv = pd.read_csv(\"apple_health_export/HeartRateVariabilitySDNN.csv\")"
   ]
  },
  {
   "cell_type": "code",
   "execution_count": 25,
   "metadata": {},
   "outputs": [
    {
     "data": {
      "text/plain": [
       "1647"
      ]
     },
     "execution_count": 25,
     "metadata": {},
     "output_type": "execute_result"
    }
   ],
   "source": [
    "len(hrv)"
   ]
  },
  {
   "cell_type": "code",
   "execution_count": 26,
   "metadata": {},
   "outputs": [
    {
     "data": {
      "text/plain": [
       "Index(['sourceName', 'sourceVersion', 'device', 'type', 'unit', 'creationDate',\n",
       "       'startDate', 'endDate', 'value'],\n",
       "      dtype='object')"
      ]
     },
     "execution_count": 26,
     "metadata": {},
     "output_type": "execute_result"
    }
   ],
   "source": [
    "hrv.columns"
   ]
  },
  {
   "cell_type": "code",
   "execution_count": 27,
   "metadata": {},
   "outputs": [
    {
     "data": {
      "text/html": [
       "<div>\n",
       "<style scoped>\n",
       "    .dataframe tbody tr th:only-of-type {\n",
       "        vertical-align: middle;\n",
       "    }\n",
       "\n",
       "    .dataframe tbody tr th {\n",
       "        vertical-align: top;\n",
       "    }\n",
       "\n",
       "    .dataframe thead th {\n",
       "        text-align: right;\n",
       "    }\n",
       "</style>\n",
       "<table border=\"1\" class=\"dataframe\">\n",
       "  <thead>\n",
       "    <tr style=\"text-align: right;\">\n",
       "      <th></th>\n",
       "      <th>value</th>\n",
       "    </tr>\n",
       "  </thead>\n",
       "  <tbody>\n",
       "    <tr>\n",
       "      <th>count</th>\n",
       "      <td>1647.000000</td>\n",
       "    </tr>\n",
       "    <tr>\n",
       "      <th>mean</th>\n",
       "      <td>87.390245</td>\n",
       "    </tr>\n",
       "    <tr>\n",
       "      <th>std</th>\n",
       "      <td>33.510667</td>\n",
       "    </tr>\n",
       "    <tr>\n",
       "      <th>min</th>\n",
       "      <td>8.098030</td>\n",
       "    </tr>\n",
       "    <tr>\n",
       "      <th>25%</th>\n",
       "      <td>64.342350</td>\n",
       "    </tr>\n",
       "    <tr>\n",
       "      <th>50%</th>\n",
       "      <td>84.965400</td>\n",
       "    </tr>\n",
       "    <tr>\n",
       "      <th>75%</th>\n",
       "      <td>106.644000</td>\n",
       "    </tr>\n",
       "    <tr>\n",
       "      <th>max</th>\n",
       "      <td>262.979000</td>\n",
       "    </tr>\n",
       "  </tbody>\n",
       "</table>\n",
       "</div>"
      ],
      "text/plain": [
       "             value\n",
       "count  1647.000000\n",
       "mean     87.390245\n",
       "std      33.510667\n",
       "min       8.098030\n",
       "25%      64.342350\n",
       "50%      84.965400\n",
       "75%     106.644000\n",
       "max     262.979000"
      ]
     },
     "execution_count": 27,
     "metadata": {},
     "output_type": "execute_result"
    }
   ],
   "source": [
    "hrv.describe()"
   ]
  },
  {
   "cell_type": "code",
   "execution_count": 28,
   "metadata": {},
   "outputs": [
    {
     "data": {
      "text/html": [
       "<div>\n",
       "<style scoped>\n",
       "    .dataframe tbody tr th:only-of-type {\n",
       "        vertical-align: middle;\n",
       "    }\n",
       "\n",
       "    .dataframe tbody tr th {\n",
       "        vertical-align: top;\n",
       "    }\n",
       "\n",
       "    .dataframe thead th {\n",
       "        text-align: right;\n",
       "    }\n",
       "</style>\n",
       "<table border=\"1\" class=\"dataframe\">\n",
       "  <thead>\n",
       "    <tr style=\"text-align: right;\">\n",
       "      <th></th>\n",
       "      <th>sourceName</th>\n",
       "      <th>sourceVersion</th>\n",
       "      <th>device</th>\n",
       "      <th>type</th>\n",
       "      <th>unit</th>\n",
       "      <th>creationDate</th>\n",
       "      <th>startDate</th>\n",
       "      <th>endDate</th>\n",
       "      <th>value</th>\n",
       "    </tr>\n",
       "  </thead>\n",
       "  <tbody>\n",
       "    <tr>\n",
       "      <th>1642</th>\n",
       "      <td>Nazih’s Apple Watch</td>\n",
       "      <td>5.3</td>\n",
       "      <td>&lt;&lt;HKDevice: 0x283a89680&gt;, name:Apple Watch, ma...</td>\n",
       "      <td>HeartRateVariabilitySDNN</td>\n",
       "      <td>ms</td>\n",
       "      <td>2019-09-01 09:11:29 +0300</td>\n",
       "      <td>2019-09-01 09:10:29 +0300</td>\n",
       "      <td>2019-09-01 09:11:29 +0300</td>\n",
       "      <td>106.5150</td>\n",
       "    </tr>\n",
       "    <tr>\n",
       "      <th>1643</th>\n",
       "      <td>Nazih’s Apple Watch</td>\n",
       "      <td>5.3</td>\n",
       "      <td>&lt;&lt;HKDevice: 0x283a89720&gt;, name:Apple Watch, ma...</td>\n",
       "      <td>HeartRateVariabilitySDNN</td>\n",
       "      <td>ms</td>\n",
       "      <td>2019-09-01 13:11:34 +0300</td>\n",
       "      <td>2019-09-01 13:10:29 +0300</td>\n",
       "      <td>2019-09-01 13:11:34 +0300</td>\n",
       "      <td>64.8325</td>\n",
       "    </tr>\n",
       "    <tr>\n",
       "      <th>1644</th>\n",
       "      <td>Nazih’s Apple Watch</td>\n",
       "      <td>5.3</td>\n",
       "      <td>&lt;&lt;HKDevice: 0x283a897c0&gt;, name:Apple Watch, ma...</td>\n",
       "      <td>HeartRateVariabilitySDNN</td>\n",
       "      <td>ms</td>\n",
       "      <td>2019-09-01 17:11:35 +0300</td>\n",
       "      <td>2019-09-01 17:10:29 +0300</td>\n",
       "      <td>2019-09-01 17:11:35 +0300</td>\n",
       "      <td>87.3327</td>\n",
       "    </tr>\n",
       "    <tr>\n",
       "      <th>1645</th>\n",
       "      <td>Nazih’s Apple Watch</td>\n",
       "      <td>5.3</td>\n",
       "      <td>&lt;&lt;HKDevice: 0x283a89860&gt;, name:Apple Watch, ma...</td>\n",
       "      <td>HeartRateVariabilitySDNN</td>\n",
       "      <td>ms</td>\n",
       "      <td>2019-09-02 01:00:14 +0300</td>\n",
       "      <td>2019-09-02 00:59:13 +0300</td>\n",
       "      <td>2019-09-02 01:00:14 +0300</td>\n",
       "      <td>78.3853</td>\n",
       "    </tr>\n",
       "    <tr>\n",
       "      <th>1646</th>\n",
       "      <td>Nazih’s Apple Watch</td>\n",
       "      <td>5.3</td>\n",
       "      <td>&lt;&lt;HKDevice: 0x283a89900&gt;, name:Apple Watch, ma...</td>\n",
       "      <td>HeartRateVariabilitySDNN</td>\n",
       "      <td>ms</td>\n",
       "      <td>2019-09-02 08:20:10 +0300</td>\n",
       "      <td>2019-09-02 08:19:05 +0300</td>\n",
       "      <td>2019-09-02 08:20:10 +0300</td>\n",
       "      <td>91.4453</td>\n",
       "    </tr>\n",
       "  </tbody>\n",
       "</table>\n",
       "</div>"
      ],
      "text/plain": [
       "               sourceName sourceVersion  \\\n",
       "1642  Nazih’s Apple Watch           5.3   \n",
       "1643  Nazih’s Apple Watch           5.3   \n",
       "1644  Nazih’s Apple Watch           5.3   \n",
       "1645  Nazih’s Apple Watch           5.3   \n",
       "1646  Nazih’s Apple Watch           5.3   \n",
       "\n",
       "                                                 device  \\\n",
       "1642  <<HKDevice: 0x283a89680>, name:Apple Watch, ma...   \n",
       "1643  <<HKDevice: 0x283a89720>, name:Apple Watch, ma...   \n",
       "1644  <<HKDevice: 0x283a897c0>, name:Apple Watch, ma...   \n",
       "1645  <<HKDevice: 0x283a89860>, name:Apple Watch, ma...   \n",
       "1646  <<HKDevice: 0x283a89900>, name:Apple Watch, ma...   \n",
       "\n",
       "                          type unit               creationDate  \\\n",
       "1642  HeartRateVariabilitySDNN   ms  2019-09-01 09:11:29 +0300   \n",
       "1643  HeartRateVariabilitySDNN   ms  2019-09-01 13:11:34 +0300   \n",
       "1644  HeartRateVariabilitySDNN   ms  2019-09-01 17:11:35 +0300   \n",
       "1645  HeartRateVariabilitySDNN   ms  2019-09-02 01:00:14 +0300   \n",
       "1646  HeartRateVariabilitySDNN   ms  2019-09-02 08:20:10 +0300   \n",
       "\n",
       "                      startDate                    endDate     value  \n",
       "1642  2019-09-01 09:10:29 +0300  2019-09-01 09:11:29 +0300  106.5150  \n",
       "1643  2019-09-01 13:10:29 +0300  2019-09-01 13:11:34 +0300   64.8325  \n",
       "1644  2019-09-01 17:10:29 +0300  2019-09-01 17:11:35 +0300   87.3327  \n",
       "1645  2019-09-02 00:59:13 +0300  2019-09-02 01:00:14 +0300   78.3853  \n",
       "1646  2019-09-02 08:19:05 +0300  2019-09-02 08:20:10 +0300   91.4453  "
      ]
     },
     "execution_count": 28,
     "metadata": {},
     "output_type": "execute_result"
    }
   ],
   "source": [
    "hrv.tail()"
   ]
  },
  {
   "cell_type": "markdown",
   "metadata": {},
   "source": [
    "-------"
   ]
  },
  {
   "cell_type": "code",
   "execution_count": null,
   "metadata": {
    "collapsed": true,
    "jupyter": {
     "outputs_hidden": true
    }
   },
   "outputs": [],
   "source": []
  }
 ],
 "metadata": {
  "kernelspec": {
   "display_name": "Python 3",
   "language": "python",
   "name": "python3"
  },
  "language_info": {
   "codemirror_mode": {
    "name": "ipython",
    "version": 3
   },
   "file_extension": ".py",
   "mimetype": "text/x-python",
   "name": "python",
   "nbconvert_exporter": "python",
   "pygments_lexer": "ipython3",
   "version": "3.7.3"
  }
 },
 "nbformat": 4,
 "nbformat_minor": 4
}
